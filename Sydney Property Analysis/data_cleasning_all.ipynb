{
 "cells": [
  {
   "cell_type": "code",
   "execution_count": 1,
   "metadata": {},
   "outputs": [],
   "source": [
    "import re\n",
    "import pandas as pd\n",
    "import numpy as np\n",
    "from tqdm import tqdm"
   ]
  },
  {
   "cell_type": "code",
   "execution_count": 2,
   "metadata": {},
   "outputs": [],
   "source": [
    "houses_df = pd.read_csv('syd_sold_property_all.csv')"
   ]
  },
  {
   "cell_type": "markdown",
   "metadata": {},
   "source": [
    "# 1.Remove Duplicates"
   ]
  },
  {
   "cell_type": "code",
   "execution_count": 3,
   "metadata": {},
   "outputs": [
    {
     "data": {
      "text/plain": [
       "(21239, 19)"
      ]
     },
     "execution_count": 3,
     "metadata": {},
     "output_type": "execute_result"
    }
   ],
   "source": [
    "houses_df.shape"
   ]
  },
  {
   "cell_type": "code",
   "execution_count": 4,
   "metadata": {},
   "outputs": [
    {
     "data": {
      "text/plain": [
       "42"
      ]
     },
     "execution_count": 4,
     "metadata": {},
     "output_type": "execute_result"
    }
   ],
   "source": [
    "houses_df.duplicated().sum()"
   ]
  },
  {
   "cell_type": "code",
   "execution_count": 5,
   "metadata": {},
   "outputs": [],
   "source": [
    "houses_df.drop_duplicates(inplace=True)"
   ]
  },
  {
   "cell_type": "code",
   "execution_count": 6,
   "metadata": {},
   "outputs": [
    {
     "data": {
      "text/plain": [
       "(21197, 19)"
      ]
     },
     "execution_count": 6,
     "metadata": {},
     "output_type": "execute_result"
    }
   ],
   "source": [
    "houses_df.shape"
   ]
  },
  {
   "cell_type": "markdown",
   "metadata": {},
   "source": [
    "# 2.Missing Values"
   ]
  },
  {
   "cell_type": "code",
   "execution_count": 14,
   "metadata": {},
   "outputs": [],
   "source": [
    "houses_df['landArea'] = houses_df['landArea'].replace(0, np.nan)"
   ]
  },
  {
   "cell_type": "code",
   "execution_count": 47,
   "metadata": {},
   "outputs": [
    {
     "name": "stdout",
     "output_type": "stream",
     "text": [
      "soldPrice\n",
      "False    21194\n",
      "Name: soldPrice, dtype: int64\n",
      "\n",
      "landArea\n",
      "False    13232\n",
      "True      7962\n",
      "Name: landArea, dtype: int64\n",
      "\n",
      "priceSource\n",
      "False    21194\n",
      "Name: priceSource, dtype: int64\n",
      "\n",
      "soldYear\n",
      "False    21194\n",
      "Name: soldYear, dtype: int64\n",
      "\n",
      "propertyPrice\n",
      "False    21194\n",
      "Name: propertyPrice, dtype: int64\n",
      "\n",
      "address\n",
      "False    21194\n",
      "Name: address, dtype: int64\n",
      "\n",
      "unitNumber\n",
      "True     13348\n",
      "False     7846\n",
      "Name: unitNumber, dtype: int64\n",
      "\n",
      "streetNumber\n",
      "False    21165\n",
      "True        29\n",
      "Name: streetNumber, dtype: int64\n",
      "\n",
      "suburb\n",
      "False    21194\n",
      "Name: suburb, dtype: int64\n",
      "\n",
      "postcode\n",
      "False    21194\n",
      "Name: postcode, dtype: int64\n",
      "\n",
      "lat\n",
      "False    21194\n",
      "Name: lat, dtype: int64\n",
      "\n",
      "lng\n",
      "False    21194\n",
      "Name: lng, dtype: int64\n",
      "\n",
      "rooms\n",
      "False    21194\n",
      "Name: rooms, dtype: int64\n",
      "\n",
      "baths\n",
      "False    21194\n",
      "Name: baths, dtype: int64\n",
      "\n",
      "parking\n",
      "False    21194\n",
      "Name: parking, dtype: int64\n",
      "\n",
      "landSize\n",
      "False    21194\n",
      "Name: landSize, dtype: int64\n",
      "\n",
      "landUnit\n",
      "False    21194\n",
      "Name: landUnit, dtype: int64\n",
      "\n",
      "propertyType\n",
      "False    21194\n",
      "Name: propertyType, dtype: int64\n",
      "\n",
      "schools\n",
      "False    21194\n",
      "Name: schools, dtype: int64\n",
      "\n"
     ]
    }
   ],
   "source": [
    "missing_data = houses_df.isnull()\n",
    "for column in missing_data.columns.values.tolist():\n",
    "    print(column)\n",
    "    print(missing_data[column].value_counts())\n",
    "    print()"
   ]
  },
  {
   "cell_type": "code",
   "execution_count": 8,
   "metadata": {},
   "outputs": [],
   "source": [
    "# simply drop whole row with NaN in \"lng lat\" column\n",
    "houses_df.dropna(subset=[\"lng\",\"lat\"], axis=0, inplace=True)\n",
    "\n",
    "# reset index\n",
    "houses_df.reset_index(drop=True, inplace=True)"
   ]
  },
  {
   "cell_type": "code",
   "execution_count": 49,
   "metadata": {},
   "outputs": [
    {
     "data": {
      "text/plain": [
       "(21194, 19)"
      ]
     },
     "execution_count": 49,
     "metadata": {},
     "output_type": "execute_result"
    }
   ],
   "source": [
    "houses_df.shape"
   ]
  },
  {
   "cell_type": "markdown",
   "metadata": {},
   "source": [
    "Some landArea is 0, we can replace them with average area in corresponding property Types"
   ]
  },
  {
   "cell_type": "markdown",
   "metadata": {},
   "source": [
    "*We can't filter np.nan, so we replace them back to 0*"
   ]
  },
  {
   "cell_type": "code",
   "execution_count": 51,
   "metadata": {},
   "outputs": [],
   "source": [
    "houses_df['landArea'] = houses_df['landArea'].replace(np.nan, 0)"
   ]
  },
  {
   "cell_type": "code",
   "execution_count": 54,
   "metadata": {},
   "outputs": [
    {
     "data": {
      "text/plain": [
       "(13232, 19)"
      ]
     },
     "execution_count": 54,
     "metadata": {},
     "output_type": "execute_result"
    }
   ],
   "source": [
    "df_have_landarea = houses_df[houses_df.landArea!=0]"
   ]
  },
  {
   "cell_type": "code",
   "execution_count": 86,
   "metadata": {},
   "outputs": [],
   "source": [
    "landArea_dict = df_have_landarea.groupby('propertyType')['landArea'].mean().to_dict()\n",
    "\n",
    "propertyType_list = ['house', 'apartmentUnitFlat', 'townhouse', 'semiDetached', 'vacantLand',\n",
    "       'villa', 'duplex', 'acreageSemiRural', 'terrace', 'newHouseLand',\n",
    "       'studio', 'blockOfUnits', 'newApartments', 'rural', 'newLand',\n",
    "       'developmentSite', 'carspace']\n",
    "\n",
    "def replace_missing_landArea(houses_df):\n",
    "    tmp_list = np.array(houses_df['landArea'])\n",
    "    for pt in propertyType_list:\n",
    "        pt_index = houses_df[(houses_df.landArea==0)&(houses_df.propertyType==pt)].index\n",
    "        count_pt = pt_index.shape[0]\n",
    "        if count_pt:\n",
    "            tmp_list[pt_index] = [landArea_dict[pt]] * count_pt\n",
    "    houses_df['landArea'] = tmp_list\n",
    "    return houses_df"
   ]
  },
  {
   "cell_type": "code",
   "execution_count": 87,
   "metadata": {},
   "outputs": [],
   "source": [
    "filled_houses_df = replace_missing_landArea(houses_df)"
   ]
  },
  {
   "cell_type": "code",
   "execution_count": 88,
   "metadata": {},
   "outputs": [
    {
     "data": {
      "text/html": [
       "<div>\n",
       "<style scoped>\n",
       "    .dataframe tbody tr th:only-of-type {\n",
       "        vertical-align: middle;\n",
       "    }\n",
       "\n",
       "    .dataframe tbody tr th {\n",
       "        vertical-align: top;\n",
       "    }\n",
       "\n",
       "    .dataframe thead th {\n",
       "        text-align: right;\n",
       "    }\n",
       "</style>\n",
       "<table border=\"1\" class=\"dataframe\">\n",
       "  <thead>\n",
       "    <tr style=\"text-align: right;\">\n",
       "      <th></th>\n",
       "      <th>soldPrice</th>\n",
       "      <th>landArea</th>\n",
       "      <th>priceSource</th>\n",
       "      <th>soldYear</th>\n",
       "      <th>propertyPrice</th>\n",
       "      <th>address</th>\n",
       "      <th>unitNumber</th>\n",
       "      <th>streetNumber</th>\n",
       "      <th>suburb</th>\n",
       "      <th>postcode</th>\n",
       "      <th>lat</th>\n",
       "      <th>lng</th>\n",
       "      <th>rooms</th>\n",
       "      <th>baths</th>\n",
       "      <th>parking</th>\n",
       "      <th>landSize</th>\n",
       "      <th>landUnit</th>\n",
       "      <th>propertyType</th>\n",
       "      <th>schools</th>\n",
       "    </tr>\n",
       "  </thead>\n",
       "  <tbody>\n",
       "    <tr>\n",
       "      <th>8021</th>\n",
       "      <td>646500</td>\n",
       "      <td>0.0</td>\n",
       "      <td>median</td>\n",
       "      <td>2021</td>\n",
       "      <td>630000</td>\n",
       "      <td>12/442 King Georges Road, Beverly Hills NSW 2209</td>\n",
       "      <td>12</td>\n",
       "      <td>442</td>\n",
       "      <td>Beverly Hills</td>\n",
       "      <td>2209</td>\n",
       "      <td>-33.947415</td>\n",
       "      <td>151.079334</td>\n",
       "      <td>2</td>\n",
       "      <td>2</td>\n",
       "      <td>2</td>\n",
       "      <td>0</td>\n",
       "      <td>m²</td>\n",
       "      <td>penthouse</td>\n",
       "      <td>[{'id': '8022', 'educationLevel': 'primary', '...</td>\n",
       "    </tr>\n",
       "  </tbody>\n",
       "</table>\n",
       "</div>"
      ],
      "text/plain": [
       "      soldPrice  landArea priceSource  soldYear  propertyPrice  \\\n",
       "8021     646500       0.0      median      2021         630000   \n",
       "\n",
       "                                               address unitNumber  \\\n",
       "8021  12/442 King Georges Road, Beverly Hills NSW 2209         12   \n",
       "\n",
       "     streetNumber         suburb  postcode        lat         lng  rooms  \\\n",
       "8021          442  Beverly Hills      2209 -33.947415  151.079334      2   \n",
       "\n",
       "      baths  parking  landSize landUnit propertyType  \\\n",
       "8021      2        2         0       m²    penthouse   \n",
       "\n",
       "                                                schools  \n",
       "8021  [{'id': '8022', 'educationLevel': 'primary', '...  "
      ]
     },
     "execution_count": 88,
     "metadata": {},
     "output_type": "execute_result"
    }
   ],
   "source": [
    "filled_houses_df[filled_houses_df.landArea==0]"
   ]
  },
  {
   "cell_type": "code",
   "execution_count": 89,
   "metadata": {},
   "outputs": [],
   "source": [
    "filled_houses_df = filled_houses_df[filled_houses_df.landArea!=0]"
   ]
  },
  {
   "cell_type": "code",
   "execution_count": 94,
   "metadata": {},
   "outputs": [],
   "source": [
    "# reset index, because we droped one rows\n",
    "filled_houses_df.reset_index(drop=True, inplace=True)"
   ]
  },
  {
   "cell_type": "code",
   "execution_count": 96,
   "metadata": {},
   "outputs": [
    {
     "data": {
      "text/plain": [
       "(21193, 19)"
      ]
     },
     "execution_count": 96,
     "metadata": {},
     "output_type": "execute_result"
    }
   ],
   "source": [
    "filled_houses_df.shape"
   ]
  },
  {
   "cell_type": "markdown",
   "metadata": {},
   "source": [
    "# 3.outlier Management"
   ]
  },
  {
   "cell_type": "code",
   "execution_count": 99,
   "metadata": {},
   "outputs": [
    {
     "data": {
      "text/plain": [
       "<AxesSubplot:>"
      ]
     },
     "execution_count": 99,
     "metadata": {},
     "output_type": "execute_result"
    },
    {
     "data": {
      "image/png": "[encoded data removed]",
      "text/plain": [
       "<Figure size 432x288 with 1 Axes>"
      ]
     },
     "metadata": {
      "needs_background": "light"
     },
     "output_type": "display_data"
    }
   ],
   "source": [
    "filled_houses_df['soldPrice'].plot(kind='box')"
   ]
  },
  {
   "cell_type": "code",
   "execution_count": 100,
   "metadata": {},
   "outputs": [],
   "source": [
    "percentile25 = filled_houses_df['soldPrice'].quantile(0.25)\n",
    "percentile75 = filled_houses_df['soldPrice'].quantile(0.75)\n",
    "IQR = percentile75 - percentile25\n",
    "upper_limit = percentile75 + 1.5 * IQR\n",
    "lower_limit = percentile25 - 1.5 * IQR"
   ]
  },
  {
   "cell_type": "code",
   "execution_count": 101,
   "metadata": {},
   "outputs": [
    {
     "data": {
      "text/plain": [
       "(19931, 19)"
      ]
     },
     "execution_count": 101,
     "metadata": {},
     "output_type": "execute_result"
    }
   ],
   "source": [
    "filled_houses_df[(filled_houses_df['soldPrice'] < upper_limit) & (filled_houses_df['soldPrice'] >= lower_limit)].shape"
   ]
  },
  {
   "cell_type": "code",
   "execution_count": 102,
   "metadata": {},
   "outputs": [],
   "source": [
    "clean_house_df = filled_houses_df[(filled_houses_df['soldPrice'] < upper_limit) & (filled_houses_df['soldPrice'] >= lower_limit)]"
   ]
  },
  {
   "cell_type": "markdown",
   "metadata": {},
   "source": [
    "# Save dataset"
   ]
  },
  {
   "cell_type": "code",
   "execution_count": 103,
   "metadata": {},
   "outputs": [],
   "source": [
    "clean_house_df.to_csv('clean_syd_sold_all.csv',index=False)"
   ]
  },
  {
   "cell_type": "code",
   "execution_count": null,
   "metadata": {},
   "outputs": [],
   "source": []
  }
 ],
 "metadata": {
  "kernelspec": {
   "display_name": "Python 3",
   "language": "python",
   "name": "python3"
  },
  "language_info": {
   "codemirror_mode": {
    "name": "ipython",
    "version": 3
   },
   "file_extension": ".py",
   "mimetype": "text/x-python",
   "name": "python",
   "nbconvert_exporter": "python",
   "pygments_lexer": "ipython3",
   "version": "3.7.8"
  }
 },
 "nbformat": 4,
 "nbformat_minor": 4
}
